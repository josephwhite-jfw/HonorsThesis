{
 "cells": [
  {
   "cell_type": "code",
   "execution_count": 2,
   "id": "eab9a511-485c-47eb-bcaa-f7ffbfa0f938",
   "metadata": {},
   "outputs": [
    {
     "name": "stdout",
     "output_type": "stream",
     "text": [
      "Converting mcr_flatfile_2016.sas7bdat...\n",
      "Saved to C:\\Users\\Owner\\OneDrive\\Documents\\Honors_Thesis\\data\\cost-reports-csv\\mcr_flatfile_2016.csv\n",
      "Converting mcr_flatfile_2017.sas7bdat...\n",
      "Saved to C:\\Users\\Owner\\OneDrive\\Documents\\Honors_Thesis\\data\\cost-reports-csv\\mcr_flatfile_2017.csv\n",
      "Converting mcr_flatfile_2018.sas7bdat...\n",
      "Saved to C:\\Users\\Owner\\OneDrive\\Documents\\Honors_Thesis\\data\\cost-reports-csv\\mcr_flatfile_2018.csv\n",
      "Converting mcr_flatfile_2019.sas7bdat...\n",
      "Saved to C:\\Users\\Owner\\OneDrive\\Documents\\Honors_Thesis\\data\\cost-reports-csv\\mcr_flatfile_2019.csv\n",
      "Converting mcr_flatfile_2020.sas7bdat...\n",
      "Saved to C:\\Users\\Owner\\OneDrive\\Documents\\Honors_Thesis\\data\\cost-reports-csv\\mcr_flatfile_2020.csv\n",
      "Converting mcr_flatfile_2021.sas7bdat...\n",
      "Saved to C:\\Users\\Owner\\OneDrive\\Documents\\Honors_Thesis\\data\\cost-reports-csv\\mcr_flatfile_2021.csv\n",
      "Converting mcr_flatfile_2022.sas7bdat...\n",
      "Saved to C:\\Users\\Owner\\OneDrive\\Documents\\Honors_Thesis\\data\\cost-reports-csv\\mcr_flatfile_2022.csv\n",
      "Converting mcr_flatfile_2023.sas7bdat...\n",
      "Saved to C:\\Users\\Owner\\OneDrive\\Documents\\Honors_Thesis\\data\\cost-reports-csv\\mcr_flatfile_2023.csv\n",
      "Converting mcr_flatfile_2024.sas7bdat...\n",
      "Saved to C:\\Users\\Owner\\OneDrive\\Documents\\Honors_Thesis\\data\\cost-reports-csv\\mcr_flatfile_2024.csv\n"
     ]
    }
   ],
   "source": [
    "import os\n",
    "import pyreadstat\n",
    "\n",
    "# Set the input folder where the .sas7bdat files are located\n",
    "input_folder = r\"C:\\Users\\Owner\\OneDrive\\Documents\\Honors_Thesis\\data\\drive-download-20250525T211237Z-1-001\"\n",
    "\n",
    "# Set the output folder where the CSV files will be saved\n",
    "output_folder = r\"C:\\Users\\Owner\\OneDrive\\Documents\\Honors_Thesis\\data\\cost-reports-csv\"\n",
    "os.makedirs(output_folder, exist_ok=True)\n",
    "\n",
    "# Convert each SAS file to CSV\n",
    "for file in os.listdir(input_folder):\n",
    "    if file.endswith(\".sas7bdat\"):\n",
    "        input_path = os.path.join(input_folder, file)\n",
    "        output_path = os.path.join(output_folder, file.replace(\".sas7bdat\", \".csv\"))\n",
    "\n",
    "        print(f\"Converting {file}...\")\n",
    "        df, meta = pyreadstat.read_sas7bdat(input_path)\n",
    "        df.to_csv(output_path, index=False)\n",
    "        print(f\"Saved to {output_path}\")\n"
   ]
  }
 ],
 "metadata": {
  "kernelspec": {
   "display_name": "Python [conda env:base] *",
   "language": "python",
   "name": "conda-base-py"
  },
  "language_info": {
   "codemirror_mode": {
    "name": "ipython",
    "version": 3
   },
   "file_extension": ".py",
   "mimetype": "text/x-python",
   "name": "python",
   "nbconvert_exporter": "python",
   "pygments_lexer": "ipython3",
   "version": "3.12.7"
  }
 },
 "nbformat": 4,
 "nbformat_minor": 5
}
