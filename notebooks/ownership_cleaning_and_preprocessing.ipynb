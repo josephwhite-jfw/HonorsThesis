{
 "cells": [
  {
   "cell_type": "code",
   "execution_count": 49,
   "id": "f9abcf2a-b330-41a6-9a86-bcb3534e92cd",
   "metadata": {
    "scrolled": true
   },
   "outputs": [],
   "source": [
    "import pandas as pd\n",
    "\n",
    "# Load the dataset\n",
    "df = pd.read_csv(r\"C:\\Users\\Owner\\OneDrive\\Documents\\Honors_Thesis\\data\\data-raw\\ownership-files\\NH_Ownership_Apr2025.csv\")"
   ]
  },
  {
   "cell_type": "code",
   "execution_count": 50,
   "id": "8f28af04-f7f6-4016-b9b7-1d15f8332651",
   "metadata": {},
   "outputs": [
    {
     "name": "stdout",
     "output_type": "stream",
     "text": [
      "🔍 Dataset Overview:\n",
      "<class 'pandas.core.frame.DataFrame'>\n",
      "RangeIndex: 144666 entries, 0 to 144665\n",
      "Data columns (total 13 columns):\n",
      " #   Column                                       Non-Null Count   Dtype \n",
      "---  ------                                       --------------   ----- \n",
      " 0   CMS Certification Number (CCN)               144666 non-null  object\n",
      " 1   Provider Name                                144666 non-null  object\n",
      " 2   Provider Address                             144666 non-null  object\n",
      " 3   City/Town                                    144666 non-null  object\n",
      " 4   State                                        144666 non-null  object\n",
      " 5   ZIP Code                                     144666 non-null  int64 \n",
      " 6   Role played by Owner or Manager in Facility  144666 non-null  object\n",
      " 7   Owner Type                                   143995 non-null  object\n",
      " 8   Owner Name                                   143995 non-null  object\n",
      " 9   Ownership Percentage                         143995 non-null  object\n",
      " 10  Association Date                             143995 non-null  object\n",
      " 11  Location                                     144666 non-null  object\n",
      " 12  Processing Date                              144666 non-null  object\n",
      "dtypes: int64(1), object(12)\n",
      "memory usage: 14.3+ MB\n",
      "None\n",
      "\n",
      "📄 Sample Rows:\n",
      "  CMS Certification Number (CCN)             Provider Name  \\\n",
      "0                         015009  BURNS NURSING HOME, INC.   \n",
      "1                         015009  BURNS NURSING HOME, INC.   \n",
      "2                         015009  BURNS NURSING HOME, INC.   \n",
      "3                         015009  BURNS NURSING HOME, INC.   \n",
      "4                         015009  BURNS NURSING HOME, INC.   \n",
      "\n",
      "       Provider Address     City/Town State  ZIP Code  \\\n",
      "0  701 MONROE STREET NW  RUSSELLVILLE    AL     35653   \n",
      "1  701 MONROE STREET NW  RUSSELLVILLE    AL     35653   \n",
      "2  701 MONROE STREET NW  RUSSELLVILLE    AL     35653   \n",
      "3  701 MONROE STREET NW  RUSSELLVILLE    AL     35653   \n",
      "4  701 MONROE STREET NW  RUSSELLVILLE    AL     35653   \n",
      "\n",
      "  Role played by Owner or Manager in Facility  Owner Type        Owner Name  \\\n",
      "0     5% OR GREATER DIRECT OWNERSHIP INTEREST  Individual  DEARMAN, CAMERON   \n",
      "1     5% OR GREATER DIRECT OWNERSHIP INTEREST  Individual   DEARMAN, MARTHA   \n",
      "2                          CORPORATE DIRECTOR  Individual   DEARMAN, MARTHA   \n",
      "3                           CORPORATE OFFICER  Individual  DEARMAN, CAMERON   \n",
      "4                           CORPORATE OFFICER  Individual     DEARMAN, MARK   \n",
      "\n",
      "  Ownership Percentage  Association Date  \\\n",
      "0                   5%  since 01/25/2012   \n",
      "1                  81%  since 09/01/1969   \n",
      "2       NOT APPLICABLE  since 09/07/1969   \n",
      "3       NOT APPLICABLE  since 12/26/2019   \n",
      "4       NOT APPLICABLE  since 12/26/2019   \n",
      "\n",
      "                                     Location Processing Date  \n",
      "0  701 MONROE STREET NW,RUSSELLVILLE,AL,35653      2025-04-01  \n",
      "1  701 MONROE STREET NW,RUSSELLVILLE,AL,35653      2025-04-01  \n",
      "2  701 MONROE STREET NW,RUSSELLVILLE,AL,35653      2025-04-01  \n",
      "3  701 MONROE STREET NW,RUSSELLVILLE,AL,35653      2025-04-01  \n",
      "4  701 MONROE STREET NW,RUSSELLVILLE,AL,35653      2025-04-01  \n"
     ]
    }
   ],
   "source": [
    "# Step 1: Explore the dataset\n",
    "print(\"🔍 Dataset Overview:\")\n",
    "print(df.info())\n",
    "print(\"\\n📄 Sample Rows:\")\n",
    "print(df.head())"
   ]
  },
  {
   "cell_type": "code",
   "execution_count": 51,
   "id": "83e43836-1141-4724-81e8-452dc666f64f",
   "metadata": {},
   "outputs": [],
   "source": [
    "# Step 2: Clean 'Ownership Percentage'\n",
    "# Replace 'NOT APPLICABLE' with NaN\n",
    "df['Ownership Percentage'] = df['Ownership Percentage'].replace(\"NOT APPLICABLE\", np.nan)"
   ]
  },
  {
   "cell_type": "code",
   "execution_count": 52,
   "id": "80c73528-6d13-4916-aa50-bb395aaab8f0",
   "metadata": {},
   "outputs": [],
   "source": [
    "# Remove '%' symbol\n",
    "df['Ownership Percentage'] = df['Ownership Percentage'].str.replace('%', '', regex=False)"
   ]
  },
  {
   "cell_type": "code",
   "execution_count": 53,
   "id": "5d9f59f7-8974-4172-8cb6-ae6723132c03",
   "metadata": {},
   "outputs": [],
   "source": [
    "# Convert to float and scale (e.g., 5 → 0.05)\n",
    "df['Ownership Percentage'] = pd.to_numeric(df['Ownership Percentage'], errors='coerce') / 100"
   ]
  },
  {
   "cell_type": "code",
   "execution_count": 54,
   "id": "113599cc-07da-4dd0-af29-541128f92a3c",
   "metadata": {},
   "outputs": [
    {
     "name": "stdout",
     "output_type": "stream",
     "text": [
      "\n",
      "✅ Cleaned Ownership Percentage (first 10 non-null):\n",
      "                                 Owner Name  Ownership Percentage\n",
      "0                          DEARMAN, CAMERON                  0.05\n",
      "1                           DEARMAN, MARTHA                  0.81\n",
      "7                           CHAPMAN, ARCHIE                  1.00\n",
      "24                           BALL, CLARENCE                  1.00\n",
      "28                             BALL, CASSIE                  0.25\n",
      "29                               BALL, GARY                  0.75\n",
      "32        NORTHPORT HOLDING OPERATIONS, LLC                  1.00\n",
      "33  JAMES N ESTES JR FAMILY DYNASTY TR NO 2                  0.18\n",
      "34                 JAMES NORMAN ESTES JR TR                  0.06\n",
      "35   JENNIFER E AGEE FAMILY DYNASTY TR NO 2                  0.18\n"
     ]
    }
   ],
   "source": [
    "# Step 3: Check the result\n",
    "print(\"\\n✅ Cleaned Ownership Percentage (first 10 non-null):\")\n",
    "print(df[['Owner Name', 'Ownership Percentage']].dropna().head(10))"
   ]
  }
 ],
 "metadata": {
  "kernelspec": {
   "display_name": "Python [conda env:base] *",
   "language": "python",
   "name": "conda-base-py"
  },
  "language_info": {
   "codemirror_mode": {
    "name": "ipython",
    "version": 3
   },
   "file_extension": ".py",
   "mimetype": "text/x-python",
   "name": "python",
   "nbconvert_exporter": "python",
   "pygments_lexer": "ipython3",
   "version": "3.12.7"
  }
 },
 "nbformat": 4,
 "nbformat_minor": 5
}
