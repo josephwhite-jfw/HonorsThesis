{
 "cells": [
  {
   "cell_type": "code",
   "execution_count": 1,
   "id": "839497f3-1c62-4c8a-a882-03bba66846dd",
   "metadata": {},
   "outputs": [
    {
     "name": "stdout",
     "output_type": "stream",
     "text": [
      "Downloading Nursing Home Ownership data...\n",
      "Failed to download ownership data. Status code: 404\n",
      "Downloading Nursing Home Compare Provider Info data...\n",
      "Failed to download Nursing Home Compare data. Status code: 404\n"
     ]
    }
   ],
   "source": [
    "import os\n",
    "import requests\n",
    "\n",
    "# ========== Setup Base Paths ==========\n",
    "base_dir = r\"C:\\Users\\Owner\\OneDrive\\Documents\\Honors_Thesis\\data\\data-raw\"\n",
    "\n",
    "# Create subdirectories\n",
    "ownership_dir = os.path.join(base_dir, \"ownership-files\")\n",
    "nh_compare_dir = os.path.join(base_dir, \"nh-compare\")\n",
    "os.makedirs(ownership_dir, exist_ok=True)\n",
    "os.makedirs(nh_compare_dir, exist_ok=True)\n",
    "\n",
    "# ========== Download Nursing Home Ownership Data ==========\n",
    "ownership_url = \"https://data.cms.gov/provider-data/sites/default/files/resources/y2hd-n93e.csv\"\n",
    "ownership_file_path = os.path.join(ownership_dir, \"nursing_home_ownership.csv\")\n",
    "\n",
    "print(\"Downloading Nursing Home Ownership data...\")\n",
    "response = requests.get(ownership_url)\n",
    "if response.status_code == 200:\n",
    "    with open(ownership_file_path, 'wb') as f:\n",
    "        f.write(response.content)\n",
    "    print(f\"Saved to {ownership_file_path}\")\n",
    "else:\n",
    "    print(f\"Failed to download ownership data. Status code: {response.status_code}\")\n",
    "\n",
    "# ========== Download Nursing Home Compare Archive Data ==========\n",
    "nh_compare_url = \"https://data.cms.gov/provider-data/sites/default/files/archive/NursingHomeCompare_ProviderInfo_2021-12-01.csv\"\n",
    "nh_compare_file_path = os.path.join(nh_compare_dir, \"NursingHomeCompare_ProviderInfo_2021-12-01.csv\")\n",
    "\n",
    "print(\"Downloading Nursing Home Compare Provider Info data...\")\n",
    "response = requests.get(nh_compare_url)\n",
    "if response.status_code == 200:\n",
    "    with open(nh_compare_file_path, 'wb') as f:\n",
    "        f.write(response.content)\n",
    "    print(f\"Saved to {nh_compare_file_path}\")\n",
    "else:\n",
    "    print(f\"Failed to download Nursing Home Compare data. Status code: {response.status_code}\")\n"
   ]
  }
 ],
 "metadata": {
  "kernelspec": {
   "display_name": "Python [conda env:base] *",
   "language": "python",
   "name": "conda-base-py"
  },
  "language_info": {
   "codemirror_mode": {
    "name": "ipython",
    "version": 3
   },
   "file_extension": ".py",
   "mimetype": "text/x-python",
   "name": "python",
   "nbconvert_exporter": "python",
   "pygments_lexer": "ipython3",
   "version": "3.12.7"
  }
 },
 "nbformat": 4,
 "nbformat_minor": 5
}
